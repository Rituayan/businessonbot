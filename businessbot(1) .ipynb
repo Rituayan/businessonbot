{
 "cells": [
  {
   "cell_type": "code",
   "execution_count": null,
   "id": "f27c2af3",
   "metadata": {},
   "outputs": [],
   "source": [
    "const userSchema = new Schema({\n",
    "   firstName: String,\n",
    "   lastName: String,\n",
    "   email: String,\n",
    "   password: String,\n",
    "   permissionLevel: Number\n",
    "});"
   ]
  },
  {
   "cell_type": "code",
   "execution_count": null,
   "id": "1b29ba8f",
   "metadata": {},
   "outputs": [],
   "source": [
    "const userModel = mongoose.model('Users', userSchema);"
   ]
  },
  {
   "cell_type": "code",
   "execution_count": null,
   "id": "bdbf3e12",
   "metadata": {},
   "outputs": [],
   "source": [
    "app.post('/users', [\n",
    "   UsersController.insert\n",
    "]);"
   ]
  },
  {
   "cell_type": "code",
   "execution_count": null,
   "id": "7ed8c907",
   "metadata": {},
   "outputs": [],
   "source": [
    "exports.insert = (req, res) => {\n",
    "   let salt = crypto.randomBytes(16).toString('base64');\n",
    "   let hash = crypto.createHmac('sha512',salt)\n",
    "                                    .update(req.body.password)\n",
    "                                    .digest(\"base64\");\n",
    "   req.body.password = salt + \"$\" + hash;\n",
    "   req.body.permissionLevel = 1;\n",
    "   UserModel.createUser(req.body)\n",
    "       .then((result) => {\n",
    "           res.status(201).send({id: result._id});\n",
    "       });\n",
    "};"
   ]
  },
  {
   "cell_type": "code",
   "execution_count": null,
   "id": "8c88a13b",
   "metadata": {},
   "outputs": [],
   "source": [
    "{\n",
    "   \"firstName\" : \"Marcos\",\n",
    "   \"lastName\" : \"Silva\",\n",
    "   \"email\" : \"marcos.henrique@toptal.com\",\n",
    "   \"password\" : \"s3cr3tp4sswo4rd\"\n",
    "}"
   ]
  },
  {
   "cell_type": "code",
   "execution_count": null,
   "id": "e75c6bcc",
   "metadata": {},
   "outputs": [],
   "source": [
    "fetch('http://localhost:3600/users', {\n",
    "        method: 'POST',\n",
    "        headers: {\n",
    "            \"Content-type\": \"application/json\"\n",
    "        },\n",
    "        body: JSON.stringify({\n",
    "            \"firstName\": \"Marcos\",\n",
    "            \"lastName\": \"Silva\",\n",
    "            \"email\": \"marcos.henrique@toptal.com\",\n",
    "            \"password\": \"s3cr3tp4sswo4rd\"\n",
    "        })\n",
    "    })\n",
    "    .then(function(response) {\n",
    "        return response.json();\n",
    "    })\n",
    "    .then(function(data) {\n",
    "        console.log('Request succeeded with JSON response', data);\n",
    "    })\n",
    "    .catch(function(error) {\n",
    "        console.log('Request failed', error);\n",
    "    });"
   ]
  },
  {
   "cell_type": "code",
   "execution_count": null,
   "id": "6c0dc8df",
   "metadata": {},
   "outputs": [],
   "source": [
    "exports.createUser = (userData) => {\n",
    "    const user = new User(userData);\n",
    "    return user.save();\n",
    "};"
   ]
  },
  {
   "cell_type": "code",
   "execution_count": null,
   "id": "bb025bf3",
   "metadata": {},
   "outputs": [],
   "source": [
    "app.get('/users/:userId', [\n",
    "    UsersController.getById\n",
    "]);"
   ]
  },
  {
   "cell_type": "code",
   "execution_count": null,
   "id": "f8ea61a6",
   "metadata": {},
   "outputs": [],
   "source": [
    "exports.getById = (req, res) => {\n",
    "   UserModel.findById(req.params.userId).then((result) => {\n",
    "       res.status(200).send(result);\n",
    "   });\n",
    "};"
   ]
  },
  {
   "cell_type": "code",
   "execution_count": null,
   "id": "2c587f17",
   "metadata": {},
   "outputs": [],
   "source": [
    "exports.findById = (id) => {\n",
    "    return User.findById(id).then((result) => {\n",
    "        result = result.toJSON();\n",
    "        delete result._id;\n",
    "        delete result.__v;\n",
    "        return result;\n",
    "    });\n",
    "};"
   ]
  },
  {
   "cell_type": "code",
   "execution_count": null,
   "id": "4aac54b6",
   "metadata": {},
   "outputs": [],
   "source": [
    "{\n",
    "   \"firstName\": \"Marcos\",\n",
    "   \"lastName\": \"Silva\",\n",
    "   \"email\": \"marcos.henrique@toptal.com\",\n",
    "   \"password\": \"Y+XZEaR7J8xAQCc37nf1rw==$p8b5ykUx6xpC6k8MryDaRmXDxncLumU9mEVabyLdpotO66Qjh0igVOVerdqAh+CUQ4n/E0z48mp8SDTpX2ivuQ==\",\n",
    "   \"permissionLevel\": 1,\n",
    "   \"id\": \"5b02c5c84817bf28049e58a3\"\n",
    "}"
   ]
  },
  {
   "cell_type": "code",
   "execution_count": null,
   "id": "0e116183",
   "metadata": {},
   "outputs": [],
   "source": [
    "exports.patchById = (req, res) => {\n",
    "   if (req.body.password){\n",
    "       let salt = crypto.randomBytes(16).toString('base64');\n",
    "       let hash = crypto.createHmac('sha512', salt).update(req.body.password).digest(\"base64\");\n",
    "       req.body.password = salt + \"$\" + hash;\n",
    "   }\n",
    "   UserModel.patchUser(req.params.userId, req.body).then((result) => {\n",
    "           res.status(204).send({});\n",
    "   });\n",
    "};"
   ]
  },
  {
   "cell_type": "code",
   "execution_count": null,
   "id": "37301d00",
   "metadata": {},
   "outputs": [],
   "source": [
    "exports.patchUser = (id, userData) => {\n",
    "    return User.findOneAndUpdate({\n",
    "        _id: id\n",
    "    }, userData);\n",
    "};"
   ]
  },
  {
   "cell_type": "code",
   "execution_count": null,
   "id": "3f07b6c5",
   "metadata": {},
   "outputs": [],
   "source": [
    "exports.list = (req, res) => {\n",
    "   let limit = req.query.limit && req.query.limit <= 100 ? parseInt(req.query.limit) : 10;\n",
    "   let page = 0;\n",
    "   if (req.query) {\n",
    "       if (req.query.page) {\n",
    "           req.query.page = parseInt(req.query.page);\n",
    "           page = Number.isInteger(req.query.page) ? req.query.page : 0;\n",
    "       }\n",
    "   }\n",
    "   UserModel.list(limit, page).then((result) => {\n",
    "       res.status(200).send(result);\n",
    "   })\n",
    "};"
   ]
  },
  {
   "cell_type": "code",
   "execution_count": null,
   "id": "26b2f33c",
   "metadata": {},
   "outputs": [],
   "source": [
    "exports.list = (perPage, page) => {\n",
    "    return new Promise((resolve, reject) => {\n",
    "        User.find()\n",
    "            .limit(perPage)\n",
    "            .skip(perPage * page)\n",
    "            .exec(function (err, users) {\n",
    "                if (err) {\n",
    "                    reject(err);\n",
    "                } else {\n",
    "                    resolve(users);\n",
    "                }\n",
    "            })\n",
    "    });\n",
    "};"
   ]
  },
  {
   "cell_type": "code",
   "execution_count": null,
   "id": "67865444",
   "metadata": {},
   "outputs": [],
   "source": [
    "exports.removeById = (req, res) => {\n",
    "   UserModel.removeById(req.params.userId)\n",
    "       .then((result)=>{\n",
    "           res.status(204).send({});\n",
    "       });\n",
    "};"
   ]
  },
  {
   "cell_type": "code",
   "execution_count": null,
   "id": "4f9862a3",
   "metadata": {},
   "outputs": [],
   "source": [
    "exports.removeById = (userId) => {\n",
    "    return new Promise((resolve, reject) => {\n",
    "        User.deleteMany({_id: userId}, (err) => {\n",
    "            if (err) {\n",
    "                reject(err);\n",
    "            } else {\n",
    "                resolve(err);\n",
    "            }\n",
    "        });\n",
    "    });\n",
    "};"
   ]
  },
  {
   "cell_type": "code",
   "execution_count": null,
   "id": "eee7ae24",
   "metadata": {},
   "outputs": [],
   "source": [
    "exports.isPasswordAndUserMatch = (req, res, next) => {\n",
    "   UserModel.findByEmail(req.body.email)\n",
    "       .then((user)=>{\n",
    "           if(!user[0]){\n",
    "               res.status(404).send({});\n",
    "           }else{\n",
    "               let passwordFields = user[0].password.split('$');\n",
    "               let salt = passwordFields[0];\n",
    "               let hash = crypto.createHmac('sha512', salt).update(req.body.password).digest(\"base64\");\n",
    "               if (hash === passwordFields[1]) {\n",
    "                   req.body = {\n",
    "                       userId: user[0]._id,\n",
    "                       email: user[0].email,\n",
    "                       permissionLevel: user[0].permissionLevel,\n",
    "                       provider: 'email',\n",
    "                       name: user[0].firstName + ' ' + user[0].lastName,\n",
    "                   };"
   ]
  },
  {
   "cell_type": "code",
   "execution_count": null,
   "id": "2b38e0bc",
   "metadata": {},
   "outputs": [],
   "source": [
    "exports.login = (req, res) => {\n",
    "   try {\n",
    "       let refreshId = req.body.userId + jwtSecret;\n",
    "       let salt = crypto.randomBytes(16).toString('base64');\n",
    "       let hash = crypto.createHmac('sha512', salt).update(refreshId).digest(\"base64\");\n",
    "       req.body.refreshKey = salt;\n",
    "       let token = jwt.sign(req.body, jwtSecret);\n",
    "       let b = Buffer.from(hash);\n",
    "       let refresh_token = b.toString('base64');\n",
    "       res.status(201).send({accessToken: token, refreshToken: refresh_token});\n",
    "   } catch (err) {\n",
    "       res.status(500).send({errors: err});\n",
    "   }\n",
    "};"
   ]
  },
  {
   "cell_type": "code",
   "execution_count": null,
   "id": "24065702",
   "metadata": {},
   "outputs": [],
   "source": [
    "app.post('/auth', [\n",
    "        VerifyUserMiddleware.hasAuthValidFields,\n",
    "        VerifyUserMiddleware.isPasswordAndUserMatch,\n",
    "        AuthorizationController.login\n",
    "    ]);"
   ]
  },
  {
   "cell_type": "code",
   "execution_count": null,
   "id": "51b70f9a",
   "metadata": {},
   "outputs": [],
   "source": [
    "exports.validJWTNeeded = (req, res, next) => {\n",
    "    if (req.headers['authorization']) {\n",
    "        try {\n",
    "            let authorization = req.headers['authorization'].split(' ');\n",
    "            if (authorization[0] !== 'Bearer') {\n",
    "                return res.status(401).send();\n",
    "            } else {\n",
    "                req.jwt = jwt.verify(authorization[1], secret);\n",
    "                return next();\n",
    "            }\n",
    "        } catch (err) {\n",
    "            return res.status(403).send();\n",
    "        }\n",
    "    } else {\n",
    "        return res.status(401).send();\n",
    "    }\n",
    "}; "
   ]
  },
  {
   "cell_type": "code",
   "execution_count": null,
   "id": "fc532c94",
   "metadata": {},
   "outputs": [],
   "source": [
    "exports.minimumPermissionLevelRequired = (required_permission_level) => {\n",
    "   return (req, res, next) => {\n",
    "       let user_permission_level = parseInt(req.jwt.permission_level);\n",
    "       let user_id = req.jwt.user_id;\n",
    "       if (user_permission_level & required_permission_level) {\n",
    "           return next();\n",
    "       } else {\n",
    "           return res.status(403).send();\n",
    "       }\n",
    "   };\n",
    "};"
   ]
  }
 ],
 "metadata": {
  "kernelspec": {
   "display_name": "Python 3",
   "language": "python",
   "name": "python3"
  },
  "language_info": {
   "codemirror_mode": {
    "name": "ipython",
    "version": 3
   },
   "file_extension": ".py",
   "mimetype": "text/x-python",
   "name": "python",
   "nbconvert_exporter": "python",
   "pygments_lexer": "ipython3",
   "version": "3.8.8"
  }
 },
 "nbformat": 4,
 "nbformat_minor": 5
}
